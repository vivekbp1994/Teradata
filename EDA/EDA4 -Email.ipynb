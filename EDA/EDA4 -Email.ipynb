{
 "cells": [
  {
   "cell_type": "code",
   "execution_count": 1,
   "metadata": {},
   "outputs": [],
   "source": [
    "import pandas as pd\n",
    "import seaborn as sns\n",
    "import matplotlib.pyplot as plt\n",
    "import warnings\n",
    "warnings.filterwarnings(\"ignore\")\n",
    "%matplotlib inline"
   ]
  },
  {
   "cell_type": "code",
   "execution_count": 2,
   "metadata": {},
   "outputs": [
    {
     "name": "stdout",
     "output_type": "stream",
     "text": [
      "C:\\DSBA\\Advanced BA\\Project\n"
     ]
    }
   ],
   "source": [
    "%cd \"C:\\DSBA\\Advanced BA\\Project\""
   ]
  },
  {
   "cell_type": "code",
   "execution_count": 3,
   "metadata": {},
   "outputs": [
    {
     "data": {
      "text/html": [
       "<div>\n",
       "<style scoped>\n",
       "    .dataframe tbody tr th:only-of-type {\n",
       "        vertical-align: middle;\n",
       "    }\n",
       "\n",
       "    .dataframe tbody tr th {\n",
       "        vertical-align: top;\n",
       "    }\n",
       "\n",
       "    .dataframe thead th {\n",
       "        text-align: right;\n",
       "    }\n",
       "</style>\n",
       "<table border=\"1\" class=\"dataframe\">\n",
       "  <thead>\n",
       "    <tr style=\"text-align: right;\">\n",
       "      <th></th>\n",
       "      <th>Id</th>\n",
       "      <th>OwnerId</th>\n",
       "      <th>IsDeleted</th>\n",
       "      <th>Name</th>\n",
       "      <th>CreatedDate</th>\n",
       "      <th>CreatedById</th>\n",
       "      <th>LastModifiedDate</th>\n",
       "      <th>LastModifiedById</th>\n",
       "      <th>SystemModstamp</th>\n",
       "      <th>vr__Bounced__c</th>\n",
       "      <th>...</th>\n",
       "      <th>vr__Email_ID__c</th>\n",
       "      <th>vr__Email_Type__c</th>\n",
       "      <th>vr__List_Type__c</th>\n",
       "      <th>vr__Mail_Date__c</th>\n",
       "      <th>vr__Clicked_Links__c</th>\n",
       "      <th>vr__Company_Hash__c</th>\n",
       "      <th>vr__Contact__c</th>\n",
       "      <th>vr__Opened__c</th>\n",
       "      <th>vr__Sent__c</th>\n",
       "      <th>vr__Unsubscribed__c</th>\n",
       "    </tr>\n",
       "  </thead>\n",
       "  <tbody>\n",
       "    <tr>\n",
       "      <th>0</th>\n",
       "      <td>a0Z0z00000DIN2LEAX</td>\n",
       "      <td>00550000000ztRtAAI</td>\n",
       "      <td>0</td>\n",
       "      <td>Apprenti</td>\n",
       "      <td>2018-09-28 17:21:39</td>\n",
       "      <td>00550000000ztRtAAI</td>\n",
       "      <td>2018-09-28 17:21:39</td>\n",
       "      <td>00550000000ztRtAAI</td>\n",
       "      <td>2018-09-28 17:21:39</td>\n",
       "      <td>0</td>\n",
       "      <td>...</td>\n",
       "      <td>27057811</td>\n",
       "      <td>canvas</td>\n",
       "      <td>Salesforce Mass Email</td>\n",
       "      <td>2018-09-28 17:25:00</td>\n",
       "      <td>NaN</td>\n",
       "      <td>c75c5a42fe</td>\n",
       "      <td>0035000000e6Gn9AAE</td>\n",
       "      <td>0</td>\n",
       "      <td>1</td>\n",
       "      <td>0</td>\n",
       "    </tr>\n",
       "    <tr>\n",
       "      <th>1</th>\n",
       "      <td>a0Z0z00000DIN2MEAX</td>\n",
       "      <td>00550000000ztRtAAI</td>\n",
       "      <td>0</td>\n",
       "      <td>Apprenti</td>\n",
       "      <td>2018-09-28 17:21:39</td>\n",
       "      <td>00550000000ztRtAAI</td>\n",
       "      <td>2018-09-28 17:21:39</td>\n",
       "      <td>00550000000ztRtAAI</td>\n",
       "      <td>2018-09-28 17:21:39</td>\n",
       "      <td>0</td>\n",
       "      <td>...</td>\n",
       "      <td>27057811</td>\n",
       "      <td>canvas</td>\n",
       "      <td>Salesforce Mass Email</td>\n",
       "      <td>2018-09-28 17:25:00</td>\n",
       "      <td>NaN</td>\n",
       "      <td>c75c5a42fe</td>\n",
       "      <td>0033800002ZBO9ZAAX</td>\n",
       "      <td>0</td>\n",
       "      <td>1</td>\n",
       "      <td>0</td>\n",
       "    </tr>\n",
       "    <tr>\n",
       "      <th>2</th>\n",
       "      <td>a0Z0z00000DIN2NEAX</td>\n",
       "      <td>00550000000ztRtAAI</td>\n",
       "      <td>0</td>\n",
       "      <td>Apprenti</td>\n",
       "      <td>2018-09-28 17:21:39</td>\n",
       "      <td>00550000000ztRtAAI</td>\n",
       "      <td>2018-09-28 17:21:39</td>\n",
       "      <td>00550000000ztRtAAI</td>\n",
       "      <td>2018-09-28 17:21:39</td>\n",
       "      <td>0</td>\n",
       "      <td>...</td>\n",
       "      <td>27057811</td>\n",
       "      <td>canvas</td>\n",
       "      <td>Salesforce Mass Email</td>\n",
       "      <td>2018-09-28 17:25:00</td>\n",
       "      <td>NaN</td>\n",
       "      <td>c75c5a42fe</td>\n",
       "      <td>003500000225PVEAA2</td>\n",
       "      <td>0</td>\n",
       "      <td>1</td>\n",
       "      <td>0</td>\n",
       "    </tr>\n",
       "    <tr>\n",
       "      <th>3</th>\n",
       "      <td>a0Z0z00000DIN2OEAX</td>\n",
       "      <td>00550000000ztRtAAI</td>\n",
       "      <td>0</td>\n",
       "      <td>Apprenti</td>\n",
       "      <td>2018-09-28 17:21:39</td>\n",
       "      <td>00550000000ztRtAAI</td>\n",
       "      <td>2018-09-28 17:21:39</td>\n",
       "      <td>00550000000ztRtAAI</td>\n",
       "      <td>2018-09-28 17:21:39</td>\n",
       "      <td>0</td>\n",
       "      <td>...</td>\n",
       "      <td>27057811</td>\n",
       "      <td>canvas</td>\n",
       "      <td>Salesforce Mass Email</td>\n",
       "      <td>2018-09-28 17:25:00</td>\n",
       "      <td>NaN</td>\n",
       "      <td>c75c5a42fe</td>\n",
       "      <td>0033800002iDRB4AAO</td>\n",
       "      <td>0</td>\n",
       "      <td>1</td>\n",
       "      <td>0</td>\n",
       "    </tr>\n",
       "    <tr>\n",
       "      <th>4</th>\n",
       "      <td>a0Z0z00000DIN2PEAX</td>\n",
       "      <td>00550000000ztRtAAI</td>\n",
       "      <td>0</td>\n",
       "      <td>Apprenti</td>\n",
       "      <td>2018-09-28 17:21:39</td>\n",
       "      <td>00550000000ztRtAAI</td>\n",
       "      <td>2018-09-28 17:21:39</td>\n",
       "      <td>00550000000ztRtAAI</td>\n",
       "      <td>2018-09-28 17:21:39</td>\n",
       "      <td>0</td>\n",
       "      <td>...</td>\n",
       "      <td>27057811</td>\n",
       "      <td>canvas</td>\n",
       "      <td>Salesforce Mass Email</td>\n",
       "      <td>2018-09-28 17:25:00</td>\n",
       "      <td>NaN</td>\n",
       "      <td>c75c5a42fe</td>\n",
       "      <td>0033800002gzSfaAAE</td>\n",
       "      <td>0</td>\n",
       "      <td>1</td>\n",
       "      <td>0</td>\n",
       "    </tr>\n",
       "  </tbody>\n",
       "</table>\n",
       "<p>5 rows × 22 columns</p>\n",
       "</div>"
      ],
      "text/plain": [
       "                   Id             OwnerId  IsDeleted      Name  \\\n",
       "0  a0Z0z00000DIN2LEAX  00550000000ztRtAAI          0  Apprenti   \n",
       "1  a0Z0z00000DIN2MEAX  00550000000ztRtAAI          0  Apprenti   \n",
       "2  a0Z0z00000DIN2NEAX  00550000000ztRtAAI          0  Apprenti   \n",
       "3  a0Z0z00000DIN2OEAX  00550000000ztRtAAI          0  Apprenti   \n",
       "4  a0Z0z00000DIN2PEAX  00550000000ztRtAAI          0  Apprenti   \n",
       "\n",
       "           CreatedDate         CreatedById     LastModifiedDate  \\\n",
       "0  2018-09-28 17:21:39  00550000000ztRtAAI  2018-09-28 17:21:39   \n",
       "1  2018-09-28 17:21:39  00550000000ztRtAAI  2018-09-28 17:21:39   \n",
       "2  2018-09-28 17:21:39  00550000000ztRtAAI  2018-09-28 17:21:39   \n",
       "3  2018-09-28 17:21:39  00550000000ztRtAAI  2018-09-28 17:21:39   \n",
       "4  2018-09-28 17:21:39  00550000000ztRtAAI  2018-09-28 17:21:39   \n",
       "\n",
       "     LastModifiedById       SystemModstamp  vr__Bounced__c  ...  \\\n",
       "0  00550000000ztRtAAI  2018-09-28 17:21:39               0  ...   \n",
       "1  00550000000ztRtAAI  2018-09-28 17:21:39               0  ...   \n",
       "2  00550000000ztRtAAI  2018-09-28 17:21:39               0  ...   \n",
       "3  00550000000ztRtAAI  2018-09-28 17:21:39               0  ...   \n",
       "4  00550000000ztRtAAI  2018-09-28 17:21:39               0  ...   \n",
       "\n",
       "  vr__Email_ID__c  vr__Email_Type__c       vr__List_Type__c  \\\n",
       "0        27057811             canvas  Salesforce Mass Email   \n",
       "1        27057811             canvas  Salesforce Mass Email   \n",
       "2        27057811             canvas  Salesforce Mass Email   \n",
       "3        27057811             canvas  Salesforce Mass Email   \n",
       "4        27057811             canvas  Salesforce Mass Email   \n",
       "\n",
       "      vr__Mail_Date__c vr__Clicked_Links__c vr__Company_Hash__c  \\\n",
       "0  2018-09-28 17:25:00                  NaN          c75c5a42fe   \n",
       "1  2018-09-28 17:25:00                  NaN          c75c5a42fe   \n",
       "2  2018-09-28 17:25:00                  NaN          c75c5a42fe   \n",
       "3  2018-09-28 17:25:00                  NaN          c75c5a42fe   \n",
       "4  2018-09-28 17:25:00                  NaN          c75c5a42fe   \n",
       "\n",
       "       vr__Contact__c vr__Opened__c vr__Sent__c  vr__Unsubscribed__c  \n",
       "0  0035000000e6Gn9AAE             0           1                    0  \n",
       "1  0033800002ZBO9ZAAX             0           1                    0  \n",
       "2  003500000225PVEAA2             0           1                    0  \n",
       "3  0033800002iDRB4AAO             0           1                    0  \n",
       "4  0033800002gzSfaAAE             0           1                    0  \n",
       "\n",
       "[5 rows x 22 columns]"
      ]
     },
     "execution_count": 3,
     "metadata": {},
     "output_type": "execute_result"
    }
   ],
   "source": [
    "df=pd.read_csv('vr__VR_Email_History_Contact__c.csv')\n",
    "df.head()"
   ]
  },
  {
   "cell_type": "code",
   "execution_count": 4,
   "metadata": {},
   "outputs": [
    {
     "data": {
      "text/plain": [
       "(378099, 22)"
      ]
     },
     "execution_count": 4,
     "metadata": {},
     "output_type": "execute_result"
    }
   ],
   "source": [
    "df.shape"
   ]
  },
  {
   "cell_type": "code",
   "execution_count": 5,
   "metadata": {},
   "outputs": [
    {
     "data": {
      "text/plain": [
       "Id                           0\n",
       "OwnerId                      0\n",
       "IsDeleted                    0\n",
       "Name                         0\n",
       "CreatedDate                  0\n",
       "CreatedById                  0\n",
       "LastModifiedDate             0\n",
       "LastModifiedById             0\n",
       "SystemModstamp               0\n",
       "vr__Bounced__c               0\n",
       "vr__Campaign_Hash__c         0\n",
       "vr__Clicked__c               0\n",
       "vr__Email_ID__c              0\n",
       "vr__Email_Type__c            0\n",
       "vr__List_Type__c             0\n",
       "vr__Mail_Date__c             0\n",
       "vr__Clicked_Links__c    377496\n",
       "vr__Company_Hash__c          0\n",
       "vr__Contact__c          158507\n",
       "vr__Opened__c                0\n",
       "vr__Sent__c                  0\n",
       "vr__Unsubscribed__c          0\n",
       "dtype: int64"
      ]
     },
     "execution_count": 5,
     "metadata": {},
     "output_type": "execute_result"
    }
   ],
   "source": [
    "df.isnull().sum()"
   ]
  },
  {
   "cell_type": "code",
   "execution_count": 6,
   "metadata": {},
   "outputs": [
    {
     "data": {
      "text/plain": [
       "template    262388\n",
       "canvas       77591\n",
       "freeform     38120\n",
       "Name: vr__Email_Type__c, dtype: int64"
      ]
     },
     "execution_count": 6,
     "metadata": {},
     "output_type": "execute_result"
    }
   ],
   "source": [
    "df['vr__Email_Type__c'].value_counts()"
   ]
  },
  {
   "cell_type": "code",
   "execution_count": 7,
   "metadata": {},
   "outputs": [
    {
     "data": {
      "text/plain": [
       "Salesforce Campaign      311367\n",
       "Salesforce Mass Email     66732\n",
       "Name: vr__List_Type__c, dtype: int64"
      ]
     },
     "execution_count": 7,
     "metadata": {},
     "output_type": "execute_result"
    }
   ],
   "source": [
    "df['vr__List_Type__c'].value_counts()"
   ]
  },
  {
   "cell_type": "code",
   "execution_count": 8,
   "metadata": {},
   "outputs": [
    {
     "data": {
      "text/plain": [
       "563581b1f1    16840\n",
       "a581043d8d    15987\n",
       "e70d709f0b    15987\n",
       "c5d2d0978e    15205\n",
       "32d2f55e49    11695\n",
       "              ...  \n",
       "10361a11d6       24\n",
       "e005813f7e       17\n",
       "3cb5ff18c7       14\n",
       "c047c89d1e       11\n",
       "be276bb888       11\n",
       "Name: vr__Campaign_Hash__c, Length: 116, dtype: int64"
      ]
     },
     "execution_count": 8,
     "metadata": {},
     "output_type": "execute_result"
    }
   ],
   "source": [
    "df['vr__Campaign_Hash__c'].value_counts()"
   ]
  },
  {
   "cell_type": "code",
   "execution_count": 44,
   "metadata": {},
   "outputs": [
    {
     "data": {
      "image/png": "[encoded data removed]",
      "text/plain": [
       "<Figure size 1440x432 with 1 Axes>"
      ]
     },
     "metadata": {
      "needs_background": "light"
     },
     "output_type": "display_data"
    }
   ],
   "source": [
    "camp=df[['vr__Mail_Date__c','vr__Clicked__c','vr__Opened__c','vr__Sent__c','vr__Bounced__c']]\n",
    "camp['vr__Mail_Date__c']=pd.to_datetime(camp['vr__Mail_Date__c'])\n",
    "camp['MailDate_new'] = camp['vr__Mail_Date__c'].apply(lambda dt: dt.replace(day=1))\n",
    "camp['MailDate_new']=camp['MailDate_new'].dt.date\n",
    "\n",
    "\n",
    "mnth=camp.groupby(['MailDate_new']).sum()\n",
    "mnth.reset_index(inplace=True)\n",
    "\n",
    "# PLOTTING\n",
    "tidy = mnth.melt(id_vars='MailDate_new').rename(columns=str.title)\n",
    "fig, ax = plt.subplots(figsize = (20,6))    \n",
    "fig = sns.barplot(x = \"Maildate_New\", y = \"Value\",hue='Variable', data = tidy, \n",
    "                  ci = None, ax=ax)\n",
    "\n",
    "x_dates = pd.to_datetime(tidy['Maildate_New']).dt.strftime('%Y-%b').unique()\n",
    "ax.set_xticklabels(labels=x_dates, rotation=90, ha='center')\n",
    "\n",
    "plt.show()"
   ]
  },
  {
   "cell_type": "markdown",
   "metadata": {},
   "source": [
    "The donations that had come on Aril 2016 might have been used for marketing"
   ]
  },
  {
   "cell_type": "code",
   "execution_count": 46,
   "metadata": {},
   "outputs": [],
   "source": [
    "#mnth.to_csv('date.csv')"
   ]
  },
  {
   "cell_type": "code",
   "execution_count": null,
   "metadata": {},
   "outputs": [],
   "source": []
  }
 ],
 "metadata": {
  "kernelspec": {
   "display_name": "Python 3",
   "language": "python",
   "name": "python3"
  },
  "language_info": {
   "codemirror_mode": {
    "name": "ipython",
    "version": 3
   },
   "file_extension": ".py",
   "mimetype": "text/x-python",
   "name": "python",
   "nbconvert_exporter": "python",
   "pygments_lexer": "ipython3",
   "version": "3.7.4"
  }
 },
 "nbformat": 4,
 "nbformat_minor": 4
}
